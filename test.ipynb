{
 "cells": [
  {
   "cell_type": "code",
   "execution_count": 4,
   "metadata": {},
   "outputs": [
    {
     "name": "stdout",
     "output_type": "stream",
     "text": [
      "깃헙 사용을 배운건 의미가 있었다.\n",
      "vs코드는... 이미 사용하던 IDE여서 별로 한게 없다...\n",
      "IDE는 아니지만... 메모장말고 Notepad++ 편해요 여러분..!\n"
     ]
    }
   ],
   "source": [
    "print('깃헙 사용을 배운건 의미가 있었다.')\n",
    "print('vs코드는... 이미 사용하던 IDE여서 별로 한게 없다...')"
   ]
  }
 ],
 "metadata": {
  "kernelspec": {
   "display_name": "base",
   "language": "python",
   "name": "python3"
  },
  "language_info": {
   "codemirror_mode": {
    "name": "ipython",
    "version": 3
   },
   "file_extension": ".py",
   "mimetype": "text/x-python",
   "name": "python",
   "nbconvert_exporter": "python",
   "pygments_lexer": "ipython3",
   "version": "3.12.7"
  }
 },
 "nbformat": 4,
 "nbformat_minor": 2
}
